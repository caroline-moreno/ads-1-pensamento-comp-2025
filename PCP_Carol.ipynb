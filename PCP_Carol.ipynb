{
  "cells": [
    {
      "cell_type": "markdown",
      "metadata": {
        "id": "view-in-github",
        "colab_type": "text"
      },
      "source": [
        "<a href=\"https://colab.research.google.com/github/caroline-moreno/ads-1-pensamento-comp-2025/blob/main/PCP_Carol.ipynb\" target=\"_parent\"><img src=\"https://colab.research.google.com/assets/colab-badge.svg\" alt=\"Open In Colab\"/></a>"
      ]
    },
    {
      "cell_type": "markdown",
      "metadata": {
        "id": "0-dRIEK0mMMs"
      },
      "source": [
        "# 01. Entrada e Saída de dados"
      ]
    },
    {
      "cell_type": "markdown",
      "metadata": {
        "id": "gtpnUd_-mUHE"
      },
      "source": [
        "## Primeiros passos com Python\n",
        "\n",
        "No Python assim como as demais linguagens, temos a forma correta e escrever os comandos. Isso é chamado de **sintaxe**. Cada comando, existe sua sintaxe correta de escrita, caso contrário, apresentará um erro."
      ]
    },
    {
      "cell_type": "code",
      "execution_count": null,
      "metadata": {
        "id": "XMuGiy5umQVt"
      },
      "outputs": [],
      "source": [
        "impor this"
      ]
    },
    {
      "cell_type": "code",
      "execution_count": null,
      "metadata": {
        "id": "Y_ceN_ggnrCt"
      },
      "outputs": [],
      "source": [
        "import this"
      ]
    },
    {
      "cell_type": "markdown",
      "metadata": {
        "id": "Dissgy7poGMO"
      },
      "source": [
        "## Saída de dados\n",
        "\n",
        "O comando de saída de dados, ou seja, o responsável por **exibir** informações para o usuário no Python é o `print`. Em pseudocódigo, lemos como `escreva`.\n",
        "\n",
        "Exemplo: `print('Olá mundo')`\n",
        "\n",
        "Exemplo em pseudocódigo: `escreva('Olá mundo')`\n",
        "\n",
        "\n",
        "Faça abaixo e execute a célula:"
      ]
    },
    {
      "cell_type": "code",
      "execution_count": null,
      "metadata": {
        "id": "leOB2tfdpYPV"
      },
      "outputs": [],
      "source": [
        "print('Olá mundo')"
      ]
    },
    {
      "cell_type": "markdown",
      "metadata": {
        "id": "XPaFOLtSrUre"
      },
      "source": [
        "## Entrada de dados\n",
        "\n",
        "Já o comando de entrada de dados, responsável por ler as informações digitadas pelo usuário, é o `input`. Em pseucódigo, lemos como `leia()`.\n",
        "\n",
        "Exemplo: `input('Qual seu nome?')`\n",
        "\n",
        "Exemplo em pseucódigo: `leia('Qual seu nome?')`\n",
        "\n",
        "Faça abaixo e execute a célula:"
      ]
    },
    {
      "cell_type": "code",
      "execution_count": null,
      "metadata": {
        "id": "quuXE4iQr-E-"
      },
      "outputs": [],
      "source": [
        "nome = input('Qual seu nome? > ')\n",
        "print('Meu nome é ' + nome)"
      ]
    },
    {
      "cell_type": "markdown",
      "metadata": {
        "id": "aMcP8161vifm"
      },
      "source": [
        "## 02. Variáveis\n"
      ]
    },
    {
      "cell_type": "markdown",
      "metadata": {
        "id": "3bZGxW6cwFo1"
      },
      "source": [
        "## Conceito\n",
        "\n",
        "Na computação, temos as variáveis.\n",
        "Variáves, são posições na memória que sofrem alteração de valor.\n",
        "\n",
        "Ou seja, se você guardou um valor em uma variável, como um nome, uma idade, ele pode ser alterado posteriormente pois é possível essa volatilidade de seu valor.\n",
        "\n",
        "Para declarar uma variável, e armazenar um valor, é usado o sinal de `=` (igual).\n",
        "\n",
        "No Python, o tipo da variável é concebdo de forma dinâmica, ou seja, no ato da atribuição de um valor."
      ]
    },
    {
      "cell_type": "markdown",
      "metadata": {
        "id": "myg8_wcnyX6u"
      },
      "source": [
        "## Padrões\n",
        "\n",
        "Existem alguns padrões de declarações de variáveis os mais comuns são:\n",
        "\n",
        "* unimarUniversidade = camelCase\n",
        "* UnimarUniversidade = PascalCase\n",
        "* unimar_universidade = snake_case"
      ]
    },
    {
      "cell_type": "code",
      "execution_count": null,
      "metadata": {
        "id": "NANZ8m6C19L-"
      },
      "outputs": [],
      "source": [
        "nomeAluno = input('Digite o nome do universitário > ')\n",
        "idadeAluno = input('Digite a idade do universitário > ')\n",
        "raAluno = input('Digite o RA do universitário > ')\n",
        "cpfAluno = input('Digite o CPF do universitário > ')\n",
        "\n",
        "print(f'Aluno: {nomeAluno}, Idade: {idadeAluno}, RA: {raAluno} e CPF: {cpfAluno}')"
      ]
    },
    {
      "cell_type": "markdown",
      "metadata": {
        "id": "9BsGoIG0196G"
      },
      "source": [
        "Acima temos um exemplo de **atribuição** a uma variável, o valor 'Lucas'.\n",
        "\n",
        "Podemos ler da seguinte maneira: A variável `nome` recebe o valor de **Lucas**.\n",
        "\n",
        "As aspas indicam que ela é do tipo texto.\n",
        "\n",
        "Com o que vimos, como podemos msotrar uma saudação para a pessoa que inseriu nome na variável nome?"
      ]
    },
    {
      "cell_type": "code",
      "execution_count": null,
      "metadata": {
        "id": "3EE7kppO1_De"
      },
      "outputs": [],
      "source": [
        "print(f'Olá, {nomeAluno}!')"
      ]
    },
    {
      "cell_type": "markdown",
      "metadata": {
        "id": "wxhB5K9a2_jl"
      },
      "source": [
        "## Concatenar\n",
        "\n",
        "Para juntarmos um conteúdo de texto com variáveis, ou apenas variáveis com variáveis, usa-se a concatenação, simbolizada pela vírgula. Isso dita ao python que você quer juntar/uniar valores.\n",
        "\n",
        "Exemplo com mais texto:"
      ]
    },
    {
      "cell_type": "code",
      "execution_count": null,
      "metadata": {
        "id": "qM6GvI9F3AJV"
      },
      "outputs": [],
      "source": [
        "print(f'Olá, eu me chamo {nomeAluno}, meu é CPF: {cpfAluno} e atualmente tenho {idadeAluno} anos. Meu RA é {raAluno} na Universidade de Marília!')"
      ]
    },
    {
      "cell_type": "markdown",
      "metadata": {
        "id": "YVTEhq514-h9"
      },
      "source": [
        "## Declaração\n",
        "\n",
        "Quando declaramos uma variável, temos que nos atentar na forma como declaramos as variáveis. Existe a sintaxe correta de declaração para tal.\n",
        "\n",
        "* sem espaços;\n",
        "* não começar com números;\n",
        "* sem usar caracteres especiais/acentos;\n",
        "* não usar palavras reservadas.\n",
        "\n",
        "![image.png](https://community.revelo.com.br/content/images/2023/02/image-38.png)\n",
        "\n"
      ]
    },
    {
      "cell_type": "markdown",
      "metadata": {
        "id": "9qlQWUkVG6CM"
      },
      "source": [
        "## Tipos de dados\n",
        "\n",
        "Em Python, o tipo de uma variável não precisa ser declarado explicitamente antes de usar a variável. Python é uma linguagem de tipagem dinâmica, o que significa que o tipo de uma variável é inferido automaticamente com base no valor que ela recebe.\n",
        "\n",
        "Quando você atribui um valor a uma variável em Python, o interpretador determina o tipo dessa variável com base no tipo do valor atribuído. Exemplo:"
      ]
    },
    {
      "cell_type": "markdown",
      "metadata": {
        "id": "A1dnAx1lH5hU"
      },
      "source": [
        "`str`: representa uma cadeia de caracteres, ou seja, textos de forma geral: (str > string > cadeia)\n",
        "\n",
        "* 'Unimar - Universidade de Marília'\n",
        "* 'Lucas'\n",
        "* 'Python'\n",
        "* '123'\n",
        "\n",
        "`int`: representa números inteiros: (int > integer > inteiro)\n",
        "\n",
        "* -1\n",
        "* 334\n",
        "* -234\n",
        "* 543234\n",
        "\n",
        "`float`: representa números de ponto flutuante: (float > floating > real)\n",
        "\n",
        "* 3.14\n",
        "* -0.24\n",
        "* 1.000.000\n",
        "* 145.6\n",
        "\n"
      ]
    },
    {
      "cell_type": "code",
      "execution_count": null,
      "metadata": {
        "id": "ZXnhJG8IG8Hs"
      },
      "outputs": [],
      "source": [
        "# INTEIRO\n",
        "decidirNota = int(input('Digite uma nota para seu aluno > '))\n",
        "print(decidirNota)\n",
        "\n",
        "# STRING\n",
        "decidirNota = str(input('Digite uma nota para seu aluno > '))\n",
        "print(decidirNota)"
      ]
    },
    {
      "cell_type": "code",
      "execution_count": null,
      "metadata": {
        "id": "dvXK4PSzK0Jc"
      },
      "outputs": [],
      "source": [
        "nomeAluno = (input('Digite um nome > '))\n",
        "idade = int(input('Digite uma idade > '))\n",
        "altura = float(input('Digite sua altura > '))\n",
        "\n",
        "print(type(nomeAluno))\n",
        "print(type(idade))\n",
        "print(type(altura))"
      ]
    },
    {
      "cell_type": "markdown",
      "metadata": {
        "id": "IyuwPCSvgsdh"
      },
      "source": [
        "Ao concatenar valores, tanto o sinal de vírgula `[,]` tanto como o sinal de `[+]` funcionam com strings `[textos]`.\n",
        "\n",
        "O operador `[+]` só pode ser usado entre strings e faz uma concatenação sem adicionar espaços automaticamente. Já a vírgula pode-se usar com outros tipos de dados, e adiciona um espaço automaticamente\n",
        "\n",
        "Porém, ao usar o sinal de `[+]` entre uma string e uma variável de tipo numeral, irá ocorrer um erro."
      ]
    },
    {
      "cell_type": "code",
      "execution_count": null,
      "metadata": {
        "id": "6Bhy7P4Xn3SJ"
      },
      "outputs": [],
      "source": [
        "nomeProfessor = str(input('Insira o nome do Professor > ')) #str\n",
        "idadeProfessor = int(input('Insira a idade do Professor > ')) #int\n",
        "alturaProfessor = float(input('Insira a altura do Professor > ')) #float\n",
        "carroProfessor = 'Ferrari'\n",
        "\n",
        "print(f'Olá, querido aluno! Eu sou o Professor {nomeProfessor} da Universidade de Marília, tenho {idadeProfessor} de idade e atualmente tenho {alturaProfessor} de altura! Tenho uma {carroProfessor}.')"
      ]
    },
    {
      "cell_type": "markdown",
      "metadata": {
        "id": "93dobm7Sn5zp"
      },
      "source": [
        "## Atividade - Entrada e Saída"
      ]
    },
    {
      "cell_type": "markdown",
      "metadata": {
        "id": "zjbUm0S3n7VI"
      },
      "source": [
        "1. Peça ao usuário que digite seu time do coração e exiba uma mensagem qualquer.\n",
        "\n",
        "Exemplo:\n",
        "- Entrada: São Paulo\n",
        "Saída: Time horrível!"
      ]
    },
    {
      "cell_type": "code",
      "execution_count": null,
      "metadata": {
        "id": "1c31WQkZn8dI"
      },
      "outputs": [],
      "source": [
        "timeCoracao = input('Digite o nome do seu time do coração > ')\n",
        "\n",
        "if timeCoracao.lower() == \"são paulo\" or timeCoracao.lower() == \"santos\" or timeCoracao.lower() == \"palmeiras\":\n",
        "    print(f'Que? {timeCoracao} é uma porcaria, melhore no seu gosto. Corinthians é melhor. 🦅')\n",
        "elif timeCoracao.lower() == \"corinthians\":\n",
        "    print('🦅')\n",
        "else:\n",
        "    print(f'O {timeCoracao} é fodão! Parabéns, você tem um bom gosto.')\n"
      ]
    },
    {
      "cell_type": "markdown",
      "metadata": {
        "id": "TdW2Js6nn9_B"
      },
      "source": [
        "2. Peça ao usuário para digitar sua comida favorita.\n",
        "\n",
        "Exemplo:\n",
        "\n",
        "Entrada: O usuário decide.\n",
        "\n",
        "Saída: Lasanha é bão mesmo!"
      ]
    },
    {
      "cell_type": "code",
      "execution_count": null,
      "metadata": {
        "id": "Fv_eYt3On_RA"
      },
      "outputs": [],
      "source": [
        "comidaFavorita = input('Digite o nome da sua comida favorita > ')\n",
        "\n",
        "if comidaFavorita.lower() == \"lasanha\" or timeCoracao.lower() == \"Lasanha\":\n",
        "    print('Lasanha realmente é muito gostoso!')\n",
        "else:\n",
        "    print(f'A(o) {comidaFavorita} é bão mesmo!')"
      ]
    },
    {
      "cell_type": "markdown",
      "metadata": {
        "id": "BB1_XjdfrpZ6"
      },
      "source": [
        "3. Pela ao usuário para digitar uma palavra e um número. Depois, exiba uma senha personalizada.\n",
        "\n",
        "Exemplo:\n",
        "- Entrada: Gato e 123\n",
        "- Saída: Gato123"
      ]
    },
    {
      "cell_type": "code",
      "execution_count": null,
      "metadata": {
        "id": "mRThuKPorqRq"
      },
      "outputs": [],
      "source": [
        "palavra = input('Insira uma palavra > ')\n",
        "numero = input('Insira um número > ')\n",
        "\n",
        "print(f'Sua nova senha é {palavra}{numero}!')"
      ]
    },
    {
      "cell_type": "markdown",
      "metadata": {
        "id": "03h1HDPdrrRK"
      },
      "source": [
        "4. Peça ao usuário para digitar um nome e uma profissão fictícia para um personagem\n",
        "\n",
        "Exemplo:\n",
        "- Entrada: Robscleyton / Manobrista de nave\n",
        "- Saída Robscleyton é um grande manobrista de nave"
      ]
    },
    {
      "cell_type": "code",
      "execution_count": null,
      "metadata": {
        "id": "HfNBw7t4rsRC"
      },
      "outputs": [],
      "source": [
        "nome = input('Insira seu nome > ')\n",
        "profissao = input('Insira uma profissão fictícia > ')\n",
        "\n",
        "print(f'{nome} é um grande {profissao}!')"
      ]
    },
    {
      "cell_type": "markdown",
      "metadata": {
        "id": "OiZKpjpGrypC"
      },
      "source": [
        "5. Login"
      ]
    },
    {
      "cell_type": "code",
      "execution_count": null,
      "metadata": {
        "id": "P1bSyD-1rwKS"
      },
      "outputs": [],
      "source": [
        "login = input('Insira o login > ')\n",
        "senha = input('Insira a senha (apenas em números) > ')\n",
        "\n",
        "if login.lower() == \"gato\" and senha == \"123\":\n",
        "    print('Seja bem-vindo ao Menu!')\n",
        "else:\n",
        "    print('Senha incorreta, tente novamente!')\n"
      ]
    },
    {
      "cell_type": "markdown",
      "metadata": {
        "id": "jbVSnVnIt4cd"
      },
      "source": [
        "5.1. Peça ao usuário para inserir um substativo e um adjetivo. Depois, exiba m título fictício de livro."
      ]
    },
    {
      "cell_type": "code",
      "execution_count": null,
      "metadata": {
        "id": "ZohJx80quCWe"
      },
      "outputs": [],
      "source": [
        "substantivo = input('Digite um substantivo para criar um título fictício > ')\n",
        "adjetivo = input('Digite um adjetivo para criar um título fictício > ')\n",
        "\n",
        "print(f'O seu livro fictício ficou assim: \"{substantivo} {adjetivo}\"')"
      ]
    },
    {
      "cell_type": "markdown",
      "metadata": {
        "id": "wu_iFSKQuCsm"
      },
      "source": [
        "6. Peça ao usuário para inserir seu estilo de música preferida. Depois, exiba sua opinião sua opinião sobre o estilo.\n",
        "\n",
        "Exemplo:\n",
        "- Entrada: Funk\n",
        "- Saída: Funk é muito chato! kkkk"
      ]
    },
    {
      "cell_type": "code",
      "execution_count": null,
      "metadata": {
        "id": "06ATip5ruP1W"
      },
      "outputs": [],
      "source": [
        "estiloMusical = input('Digite seu estilo de música preferido > ')\n",
        "print(f'{estiloMusical} é muito bom!')"
      ]
    },
    {
      "cell_type": "markdown",
      "metadata": {
        "id": "TBQh9N81hBO6"
      },
      "source": [
        "# 3. Operações"
      ]
    },
    {
      "cell_type": "markdown",
      "metadata": {
        "id": "0Oct5TKEhBO-"
      },
      "source": [
        "**Hierarquia dos operadores: **\n",
        "\n",
        "1. Parêntese ();\n",
        "2. Multiplicação e Divisão (* e /);\n",
        "3. Soma e Subtração (+ e -);"
      ]
    },
    {
      "cell_type": "code",
      "execution_count": null,
      "metadata": {
        "id": "x3o_xKafhBO-"
      },
      "outputs": [],
      "source": [
        "print(1 + 1) #soma"
      ]
    },
    {
      "cell_type": "code",
      "execution_count": null,
      "metadata": {
        "id": "CP4BONajhBO-"
      },
      "outputs": [],
      "source": [
        "print(5 * 5) # multiplicação"
      ]
    },
    {
      "cell_type": "code",
      "execution_count": null,
      "metadata": {
        "id": "vtZkfP7khBO-"
      },
      "outputs": [],
      "source": [
        "print (2 ** 2) #potenciação"
      ]
    },
    {
      "cell_type": "code",
      "execution_count": null,
      "metadata": {
        "id": "GmxxCmhHhBO_"
      },
      "outputs": [],
      "source": [
        "print( 25 // 5) #divisão inteira"
      ]
    },
    {
      "cell_type": "code",
      "execution_count": null,
      "metadata": {
        "id": "9RRqro1zhBO_"
      },
      "outputs": [],
      "source": [
        "print(25 % 5) #módulo (resto da divisão)"
      ]
    },
    {
      "cell_type": "markdown",
      "metadata": {
        "id": "OL7HS5KjhBO_"
      },
      "source": [
        "1. Faça um algoritmo que leia dois valores inteiros e positivos. Ao fim, exiba a soma deste valores ao usuário."
      ]
    },
    {
      "cell_type": "code",
      "execution_count": null,
      "metadata": {
        "id": "5RZLSJzMhBO_",
        "outputId": "c067deae-7ad7-4f68-875b-5794cdb481d3"
      },
      "outputs": [
        {
          "name": "stdout",
          "output_type": "stream",
          "text": [
            "O valor inteiro somado é: 10\n"
          ]
        }
      ],
      "source": [
        "\n",
        "\n",
        "escolherMetodo = input('Escolha o método (soma, dividir, multiplicação ou adição) > ') #Entrada de dados\n",
        "insiraN1 = int(input('Digite um valor > ')) #Entrada de dados\n",
        "insiraN2 = int(input('Digite outro valor > ')) #Entrada de dados\n",
        "\n",
        "if escolherMetodo.lower() != \"Soma\":\n",
        "    print(f'O valor inteiro somado é: {insiraN1 + insiraN2}') #Saída de dados\n",
        "elif escolherMetodo.lower() != \"Dividir\":\n",
        "    print(f'O valor inteiro somado é: {insiraN1 / insiraN2}') #Saída de dados\n",
        "elif escolherMetodo.lower() != \"Multiplicação\":\n",
        "    print(f'O valor inteiro somado é: {insiraN1 * insiraN2}') #Saída de dados\n",
        "elif escolherMetodo.lower() != \"Adição\":\n",
        "    print(f'O valor inteiro somado é: {insiraN1 - insiraN2}') #Saída de dados\n",
        "else:\n",
        "    print('Método inválido! Escolha o método certo..') #Saída de dados\n"
      ]
    },
    {
      "cell_type": "markdown",
      "metadata": {
        "id": "hurZX_J6hBO_"
      },
      "source": [
        "2. Faça um algoritmo que leia um número inteiro positivo e calcule o dobro deste número."
      ]
    },
    {
      "cell_type": "code",
      "execution_count": null,
      "metadata": {
        "id": "MInTB6OohBO_",
        "outputId": "770eb189-c72f-4b59-c2d1-aad42293c177"
      },
      "outputs": [
        {
          "name": "stdout",
          "output_type": "stream",
          "text": [
            "O número 5 é maior que 0! E o resultado dele é: 10.\n"
          ]
        }
      ],
      "source": [
        "numeroInt = int(input('Digite um número inteiro: '))\n",
        "\n",
        "if numeroInt < 0:\n",
        "    print('É necessario digitar um número maior que 0. Precisamos de um número positivo!')\n",
        "else:\n",
        "    print(f'O número {numeroInt} é maior que 0! E o resultado dele é: {numeroInt * 2}.')"
      ]
    },
    {
      "cell_type": "markdown",
      "metadata": {
        "id": "20Y8iMHvhBO_"
      },
      "source": [
        "3. Faça um algoritmo que leia três notas de um aluno. Ao fim, exibir a média aritmética das três notas."
      ]
    },
    {
      "cell_type": "code",
      "execution_count": null,
      "metadata": {
        "id": "ZhwfQvenhBO_",
        "outputId": "6e92eca7-58c4-45d6-ba68-ab495fe2d7b1"
      },
      "outputs": [
        {
          "name": "stdout",
          "output_type": "stream",
          "text": [
            "A média das notas é: 11.666666666666666 \n"
          ]
        }
      ],
      "source": [
        "notaUm = float(input('Digite a primeira nota do aluno > ')) #Entrada de dados\n",
        "notaDois = float(input('Digite a segunda nota do aluno > ')) #Entrada de dados\n",
        "notaTres = float(input('Digite a terceira nota do aluno > ')) #Entrada de dados\n",
        "\n",
        "print(f'A média das notas é: {notaUm + notaDois + notaTres / 3} ') #Saída de dados"
      ]
    },
    {
      "cell_type": "markdown",
      "metadata": {
        "id": "0viovF3ghBO_"
      },
      "source": [
        "4. Calcule a área de um retângulo.\n",
        "                                    \n",
        "Fórmula: área = base * altura"
      ]
    },
    {
      "cell_type": "code",
      "execution_count": null,
      "metadata": {
        "id": "fJvjmGk2hBPA",
        "outputId": "71512702-a4c9-431a-eaef-fb6761275358"
      },
      "outputs": [
        {
          "name": "stdout",
          "output_type": "stream",
          "text": [
            "A área do retângulo é 36!\n"
          ]
        }
      ],
      "source": [
        "#Entrada de dados\n",
        "b =  int(input('Digite a base do retângulo > '))\n",
        "h = int(input('Digite a altura do retângulo > '))\n",
        "\n",
        "#Processamento\n",
        "area = (b * h)\n",
        "\n",
        "#Saída de dados\n",
        "print(f'A área do retângulo é {area}!')\n"
      ]
    },
    {
      "cell_type": "markdown",
      "metadata": {
        "id": "foY4Uo61hBPA"
      },
      "source": [
        "05. Com o valor atual do Dólar, um casal precisa se planejar para uma viagem. Faça um algoritmo que permita o casal converter a quantidade de dinheiro em reais que possuem, para Dolar, considerando a cotação atual do dia."
      ]
    },
    {
      "cell_type": "code",
      "execution_count": null,
      "metadata": {
        "id": "XtZZ-ef-hBPA",
        "outputId": "b281caf5-0aae-44b5-9d18-7dfd8b3bd084"
      },
      "outputs": [
        {
          "name": "stdout",
          "output_type": "stream",
          "text": [
            "O valor do real em dolar é: 5.209090909090909 \n"
          ]
        }
      ],
      "source": [
        "#Entrada de dados\n",
        "converter = float(input('Insira o valor em reais para converter em dólares (Dolar está custando: 1 USD = 5.50 BRL): '))\n",
        "cotacao = 5.73 #cotação do dia\n",
        "\n",
        "#Processamento\n",
        "dolar = converter / cotacao\n",
        "\n",
        "#Saída de dados\n",
        "print(f'O valor do real em dolar é: {dolar} ')"
      ]
    },
    {
      "cell_type": "markdown",
      "metadata": {
        "id": "6fTDk8UrhBPA"
      },
      "source": [
        "06. Solicite para o usuário a sua idade. Com a sua idade, crie um algoritmo que calcule a quantidade de dias que a pessoa já viveu (aproximadamente)"
      ]
    },
    {
      "cell_type": "code",
      "execution_count": null,
      "metadata": {
        "colab": {
          "base_uri": "https://localhost:8080/"
        },
        "id": "Yf7E7ttBhBPA",
        "outputId": "4d553bdb-c4b5-4acd-aff5-a5ebb1375ff7"
      },
      "outputs": [
        {
          "output_type": "stream",
          "name": "stdout",
          "text": [
            "Digite a sua idade atual > 17\n",
            "Sua vida útil é de 6205 dias até o momento!\n"
          ]
        }
      ],
      "source": [
        "#Entrada de dados\n",
        "idade = int(input('Digite a sua idade atual > '))\n",
        "\n",
        "#Processamento\n",
        "vida = idade * 365\n",
        "\n",
        "#Saída de dados\n",
        "print(f'Sua vida útil é de {vida} dias até o momento!')\n"
      ]
    },
    {
      "cell_type": "markdown",
      "metadata": {
        "id": "F7X-OkaWhBPA"
      },
      "source": [
        "7. João está muito contente com o desempenho do seu time e resolveu adquirir uma camiseta do melhor time do mundo, o Corinthians. Ao chegar na loja, percebeu que há um desconto em pagamentos à vista, que é a mesma forma que ele faria. Solicite ao usuário, o valor do produto, o percentual de desconto, e ao fim, exiba o preço do produto já descontado para pagamento."
      ]
    },
    {
      "cell_type": "code",
      "execution_count": null,
      "metadata": {
        "colab": {
          "base_uri": "https://localhost:8080/"
        },
        "id": "aNZcCFjghBPA",
        "outputId": "f9961f89-a96b-4154-b682-38cb3842bb26"
      },
      "outputs": [
        {
          "output_type": "stream",
          "name": "stdout",
          "text": [
            "Insira um valor para o produto > 120\n",
            "Insira um valor percentual de desconto do produto > 50\n",
            "O preço da camisa com desconto é de: 60.0 reais!\n"
          ]
        }
      ],
      "source": [
        "valorProduto = float(input('Insira um valor para o produto > '))\n",
        "percentualProduto = float(input('Insira um valor percentual de desconto do produto > '))\n",
        "\n",
        "valorPromo = valorProduto * (percentualProduto / 100)\n",
        "valorFinal = valorProduto - valorPromo\n",
        "\n",
        "print(f'O preço da camisa com desconto é de: {valorFinal} reais!')"
      ]
    },
    {
      "cell_type": "markdown",
      "source": [
        "08 - Faça um algoritmo que leia uma temperatura em Celsius, e converta em Fahrenheit e em Kelvin."
      ],
      "metadata": {
        "id": "ahUUe2bekEdq"
      }
    },
    {
      "cell_type": "code",
      "source": [
        "#Entrada de dados\n",
        "celsius = float(input('Digite a temperatura em Celcius: '))\n",
        "\n",
        "tempFahrenheit = (celsius * 9/5) + 32\n",
        "tempKelvin = celsius + 273.15\n",
        "\n",
        "print(f'A temperatura em Fahrenheit é de: {tempFahrenheit}')\n",
        "print(f'A temperatura em Kelvin é de: {tempKelvin}')"
      ],
      "metadata": {
        "colab": {
          "base_uri": "https://localhost:8080/"
        },
        "id": "YOKToRIBkNdB",
        "outputId": "2dab4dcf-d2fb-4388-d092-fc2a489d11ed"
      },
      "execution_count": null,
      "outputs": [
        {
          "output_type": "stream",
          "name": "stdout",
          "text": [
            "Digite a temperatura em Celcius: 32\n",
            "A temperatura em Fahrenheit é de: 89.6\n",
            "A temperatura em Kelvin é de: 305.15\n"
          ]
        }
      ]
    },
    {
      "cell_type": "markdown",
      "source": [
        "09 - Faça um algoritmo que leia o peso e a altura de uma pessoa. Com esses dados, calcular o IMC do usuário."
      ],
      "metadata": {
        "id": "YhgPPmSqkN9Z"
      }
    },
    {
      "cell_type": "code",
      "source": [
        "peso = float(input('Digite seu peso: '))\n",
        "altura = float(input('Digite sua altura: '))\n",
        "\n",
        "imc = peso / altura ** 2\n",
        "\n",
        "print(f'Seu IMC é de: {imc}')"
      ],
      "metadata": {
        "colab": {
          "base_uri": "https://localhost:8080/"
        },
        "id": "W8Pn6Q75mSlw",
        "outputId": "09deeedb-6160-49aa-a1f3-c71a709a5004"
      },
      "execution_count": null,
      "outputs": [
        {
          "output_type": "stream",
          "name": "stdout",
          "text": [
            "Digite seu peso: 50\n",
            "Digite sua altura: 1.49\n",
            "Seu IMC é de: 22.52150804017837\n"
          ]
        }
      ]
    },
    {
      "cell_type": "markdown",
      "source": [
        "10 - Faça um algoritmo que solicito dois números ao usuário e calcule o resto da divisão entre eles."
      ],
      "metadata": {
        "id": "K6Ru-wO3qfST"
      }
    },
    {
      "cell_type": "code",
      "source": [
        "num1 = int(input('Digite o primeiro número (dividendo): '))\n",
        "num2 = int(input('Digite o segundo número (divisor): '))\n",
        "\n",
        "resto = num1 % num2\n",
        "\n",
        "print(f'O resto da divisão entre os números é de: {resto}')"
      ],
      "metadata": {
        "colab": {
          "base_uri": "https://localhost:8080/"
        },
        "id": "UkeE-TEZqzyy",
        "outputId": "9798e17e-b70b-4ea0-ce4c-8af1be0a6d8a"
      },
      "execution_count": null,
      "outputs": [
        {
          "output_type": "stream",
          "name": "stdout",
          "text": [
            "Digite o primeiro número (dividendo): 5\n",
            "Digite o segundo número (divisor): 6\n",
            "O resto da divisão entre os números é de: 5\n"
          ]
        }
      ]
    },
    {
      "cell_type": "markdown",
      "source": [
        "11 - Para se preparar para a Calourada, uma aluna do vôlei da turma de ADS começou a correr para melhorar o condicionamento físico e deseja calcular a sua **velocidade média** durante as sessões de corrida. Solicite ao usuário, a distância percorrida e o tempo gasto da atividade para cálculo."
      ],
      "metadata": {
        "id": "nhtSUhsGskGZ"
      }
    },
    {
      "cell_type": "code",
      "source": [
        "distancia = float(input('Digite sua distância percorrida em km: '))\n",
        "tempo = float(input('Digite o tempo gasto da atividade em horas: '))\n",
        "\n",
        "media = distancia / tempo\n",
        "\n",
        "print(f'A distância percorrida e o tempo gasto da atividade é de: {media}')"
      ],
      "metadata": {
        "colab": {
          "base_uri": "https://localhost:8080/"
        },
        "id": "vfP4uthMs7Hv",
        "outputId": "15091816-b3c9-4f1a-da98-117c6ed9d115"
      },
      "execution_count": null,
      "outputs": [
        {
          "output_type": "stream",
          "name": "stdout",
          "text": [
            "Digite sua distância percorrida em km: 2\n",
            "Digite o tempo gasto da atividade em horas: 3\n",
            "A distância percorrida e o tempo gasto da atividade é de: 0.6666666666666666\n"
          ]
        }
      ]
    },
    {
      "cell_type": "markdown",
      "source": [
        "12 - Faça um algoritmo que leia um valor em anos. A partir dessa entradra, calcular quantos meses, dias, horas e minutos possui essa entrada."
      ],
      "metadata": {
        "id": "pW063lX8t5Xh"
      }
    },
    {
      "cell_type": "code",
      "source": [
        "anos = int(input('Digite o valor em anos: '))\n",
        "meses = anos * 12\n",
        "dias = anos * 365\n",
        "horas = anos * 8766\n",
        "minutos = anos * 525960\n",
        "\n",
        "print(f'Em {anos} anos temos {meses} meses, {dias} dias, {horas} horas e {minutos} minutos')"
      ],
      "metadata": {
        "colab": {
          "base_uri": "https://localhost:8080/"
        },
        "id": "nWGtTs-NuC1h",
        "outputId": "a13cc713-ffda-4ce2-95f6-9bcd2c56ae9c"
      },
      "execution_count": null,
      "outputs": [
        {
          "output_type": "stream",
          "name": "stdout",
          "text": [
            "Digite o valor em anos: 3\n",
            "Em 3 anos temos 36 meses, 1095 dias, 26298 horas e 1577880 minutos\n"
          ]
        }
      ]
    },
    {
      "cell_type": "markdown",
      "source": [
        "13 - Faça um algoritmo que calcule a conta final de um dado de um cliente no Pará Lanches, que por sua, possui a seguinte tabela de preços:\n",
        "\n",
        "* Lanche Cristiano Ronaldo: R$ 18.50\n",
        "* Podrão Salado: R$ 22.00\n",
        "* Fritas Messi: R$ 12.90\n",
        "* Refri Pará-Gás: R$ 5.00\n",
        "* Milkshake do Neymar: R$ 8.99"
      ],
      "metadata": {
        "id": "89NfeoPluDGB"
      }
    },
    {
      "cell_type": "code",
      "source": [
        "qtdLanche = int(input('Digite a quantidade de \"Lanche Cristiano Ronaldo\": '))\n",
        "qtdSalada = int(input('Digite a quantidade de Podrão Salado\": '))\n",
        "qtdFritas = int(input('Digite a quantidade de \"Fritas Messi\": '))\n",
        "qtdRefri = int(input('Digite a quantidade de \"Refri Pará-Gás\": '))\n",
        "qtdMilkshake = int(input('Digite a quantidade de \"Milkshake do Neymar\": '))\n",
        "\n",
        "lanche = 18.50\n",
        "salada = 22\n",
        "fritas = 12.90\n",
        "refri = 5\n",
        "milkshake = 8.99\n",
        "\n",
        "total = (qtdLanche * lanche) + (qtdSalada * salada) + (qtdFritas * fritas) + (qtdRefri * refri) + (qtdMilkshake * milkshake)\n",
        "\n",
        "print(f'O total foi de {total:.2f} reais.')"
      ],
      "metadata": {
        "colab": {
          "base_uri": "https://localhost:8080/"
        },
        "id": "E6nCirRKus4i",
        "outputId": "108502e5-2277-432a-ba92-659b0086cfc6"
      },
      "execution_count": null,
      "outputs": [
        {
          "output_type": "stream",
          "name": "stdout",
          "text": [
            "Digite a quantidade de \"Lanche Cristiano Ronaldo\": 4\n",
            "Digite a quantidade de Podrão Salado\": 0\n",
            "Digite a quantidade de \"Fritas Messi\": 3\n",
            "Digite a quantidade de \"Refri Pará-Gás\": 4\n",
            "Digite a quantidade de \"Milkshake do Neymar\": 0\n",
            "O total foi de 132.70 reais.\n"
          ]
        }
      ]
    },
    {
      "cell_type": "markdown",
      "source": [
        "14 - Os funcionários do bar Moe's conseguiram um adicional devido a alta das vendas neste período do ano. Faça um algoritmo que leia o salário base do funcionário, o percentual do acréscimo, e ao fim mostre o salário total recalculado."
      ],
      "metadata": {
        "id": "qfjA3Puk5tcK"
      }
    },
    {
      "cell_type": "code",
      "source": [
        "salarioBase = float(input('Digite seu salário: '))\n",
        "bonusPercentual = float(input('Digite o percentual do acréscimo: '))\n",
        "\n",
        "salarioFinal = salarioBase + (salarioBase * (bonusPercentual / 100))\n",
        "\n",
        "print(f'O salário total com bônus fica: R${total}')"
      ],
      "metadata": {
        "colab": {
          "base_uri": "https://localhost:8080/"
        },
        "id": "u-Ihn7mG6uoa",
        "outputId": "fe25290c-4f41-4bdf-e004-c6fed7d0e64a"
      },
      "execution_count": null,
      "outputs": [
        {
          "output_type": "stream",
          "name": "stdout",
          "text": [
            "Digite seu salário: 1400\n",
            "Digite o percentual do acréscimo: 20\n",
            "O salário total com bônus fica: R$1400.2\n"
          ]
        }
      ]
    },
    {
      "cell_type": "markdown",
      "source": [
        "## Relacionais\n",
        "\n",
        "Operadores relacionais são responsáveis por relacionar dois objetos. Sempre retornarão `True` ou `False`.\n",
        "\n",
        "\n",
        "![relacionais.png](data:image/png;base64,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)"
      ],
      "metadata": {
        "id": "XAeEZPtU9XjD"
      }
    },
    {
      "cell_type": "code",
      "source": [
        "print(5 == 5) #igualdade\n",
        "print( 5 == 4)\n",
        "\n",
        "n1 = 5\n",
        "n2 = 4\n",
        "\n",
        "print(n1 == n2)"
      ],
      "metadata": {
        "colab": {
          "base_uri": "https://localhost:8080/"
        },
        "id": "29aMILuw-61j",
        "outputId": "9308118a-11df-42aa-8b7c-d798d238cc3f"
      },
      "execution_count": null,
      "outputs": [
        {
          "output_type": "stream",
          "name": "stdout",
          "text": [
            "True\n",
            "False\n",
            "False\n"
          ]
        }
      ]
    },
    {
      "cell_type": "code",
      "source": [
        "print(10 >= 5) #maior ou igual a 5\n",
        "print(5 >= 10)"
      ],
      "metadata": {
        "colab": {
          "base_uri": "https://localhost:8080/"
        },
        "id": "9GaPcbKH_kqT",
        "outputId": "87b1cec4-e4b7-4cc2-bc4a-130a5316b0b5"
      },
      "execution_count": null,
      "outputs": [
        {
          "output_type": "stream",
          "name": "stdout",
          "text": [
            "True\n",
            "False\n"
          ]
        }
      ]
    },
    {
      "cell_type": "code",
      "source": [
        "print(5 < 10) #menor\n",
        "print(10 < 5)"
      ],
      "metadata": {
        "colab": {
          "base_uri": "https://localhost:8080/"
        },
        "id": "TUlMQlPd_u7h",
        "outputId": "1ff3ca81-1a60-44ae-e78d-ad0807dc81aa"
      },
      "execution_count": null,
      "outputs": [
        {
          "output_type": "stream",
          "name": "stdout",
          "text": [
            "True\n",
            "False\n"
          ]
        }
      ]
    },
    {
      "cell_type": "code",
      "source": [
        "print(5 <= 10) #menor OU igual\n",
        "print(10 <= 5)"
      ],
      "metadata": {
        "colab": {
          "base_uri": "https://localhost:8080/"
        },
        "id": "6aVXgHsM_0hL",
        "outputId": "2ac7c549-0e19-4d59-8b34-987be12ee102"
      },
      "execution_count": null,
      "outputs": [
        {
          "output_type": "stream",
          "name": "stdout",
          "text": [
            "True\n",
            "False\n"
          ]
        }
      ]
    },
    {
      "cell_type": "code",
      "source": [
        "print(10 != 5)\n",
        "print(5 != 10)"
      ],
      "metadata": {
        "colab": {
          "base_uri": "https://localhost:8080/"
        },
        "id": "hYkM2fGv_7sS",
        "outputId": "5d3fb6b3-6d8d-4e94-a9e3-b07d74d58431"
      },
      "execution_count": null,
      "outputs": [
        {
          "output_type": "stream",
          "name": "stdout",
          "text": [
            "True\n",
            "True\n"
          ]
        }
      ]
    },
    {
      "cell_type": "markdown",
      "source": [
        "## Lógicos\n",
        "\n",
        "Operadores lógicos são utilizados para realizar operações de comparação entre valores ou expressões\n",
        "\n",
        "O resultado de uma expressão com a utilização dos operadores lógicos retornará uma expressão que poderá ser `False` ou `True`.\n",
        "\n",
        "**E lógico** (`AND`): retorna verdadeiro se **ambas** as expressões envolvidas forem verdadeiras, caso contrário, retorna falso.\n",
        "\n",
        "**OU lógico** (`OR`): Retorna verdadeiro se pelo menos **uma** das expressões envolvidas for verdadeira.\n",
        "\n",
        "**NÃO lógico** (`NOT`): Este operador **nega o valor** de uma expressão. Se a expressão é verdadeira (`True`), NOT a torna falsa e vice-versa.\n",
        "\n",
        "### Tabela verdade\n",
        "\n",
        "![verdade.png](data:image/png;base64,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)"
      ],
      "metadata": {
        "id": "G5iDv8mcHh9L"
      }
    },
    {
      "cell_type": "markdown",
      "source": [
        "## Operador AND"
      ],
      "metadata": {
        "id": "PhcqRloBONS7"
      }
    },
    {
      "cell_type": "code",
      "source": [
        "n1 = 2\n",
        "n2 = 5\n",
        "n3 = 7\n",
        "n4 = 10\n",
        "\n",
        "print(n4 > n1 and n2 > n4) #V e F = F\n",
        "print(n1 > n3 and n3 > n2) #F e V = F\n",
        "print(n1 < n2 and n3 < n4) #V e V = V\n",
        "print(n4 > n1 and n3 > n4) #F e F = F"
      ],
      "metadata": {
        "colab": {
          "base_uri": "https://localhost:8080/"
        },
        "id": "NhefkW6GOQCT",
        "outputId": "1c6901a5-c82a-4e03-83cb-4df8fea43ddb"
      },
      "execution_count": null,
      "outputs": [
        {
          "output_type": "stream",
          "name": "stdout",
          "text": [
            "False\n",
            "False\n",
            "True\n",
            "False\n"
          ]
        }
      ]
    },
    {
      "cell_type": "markdown",
      "source": [
        "##Operador OR"
      ],
      "metadata": {
        "id": "uLpuj4nmNVgz"
      }
    },
    {
      "cell_type": "code",
      "source": [
        "n1 = 2\n",
        "n2 = 5\n",
        "n3 = 7\n",
        "n4 = 10\n",
        "\n",
        "print(n4 > n1 or n2 > n4) #V or F = F\n",
        "print(n1 > n4 or n3 > n2) #F or V = V\n",
        "print(n1 < n2 or n3 < n4) #V or V = V\n",
        "print(n1 > n2 or n3 > n4) #F or F = F"
      ],
      "metadata": {
        "colab": {
          "base_uri": "https://localhost:8080/"
        },
        "id": "zB4_me9gNW0q",
        "outputId": "0cb246db-000f-4ff2-988f-339f5cadcc31"
      },
      "execution_count": null,
      "outputs": [
        {
          "output_type": "stream",
          "name": "stdout",
          "text": [
            "True\n",
            "True\n",
            "True\n",
            "False\n"
          ]
        }
      ]
    },
    {
      "cell_type": "code",
      "source": [
        "palmeiras_tem_mundial = True\n",
        "print(not palmeiras_tem_mundial)"
      ],
      "metadata": {
        "colab": {
          "base_uri": "https://localhost:8080/"
        },
        "id": "w1DkoKMeO7uL",
        "outputId": "99311447-2b30-4854-8130-6d4c448df7a3"
      },
      "execution_count": null,
      "outputs": [
        {
          "output_type": "stream",
          "name": "stdout",
          "text": [
            "False\n"
          ]
        }
      ]
    },
    {
      "cell_type": "code",
      "source": [
        "curintia_tem_2_mundial = True\n",
        "print(not curintia_tem_2_mundial)"
      ],
      "metadata": {
        "colab": {
          "base_uri": "https://localhost:8080/"
        },
        "id": "oAeH0jshPCIL",
        "outputId": "4096d125-2be4-484c-9c49-597c23f3678d"
      },
      "execution_count": null,
      "outputs": [
        {
          "output_type": "stream",
          "name": "stdout",
          "text": [
            "False\n"
          ]
        }
      ]
    },
    {
      "cell_type": "code",
      "source": [
        "sp_nunca_rebaixado = False\n",
        "print(not sp_nunca_rebaixado)"
      ],
      "metadata": {
        "colab": {
          "base_uri": "https://localhost:8080/"
        },
        "id": "hUoJHg2_PNkr",
        "outputId": "03dbf2c9-a10e-4625-bbe8-b51436773d72"
      },
      "execution_count": null,
      "outputs": [
        {
          "output_type": "stream",
          "name": "stdout",
          "text": [
            "True\n"
          ]
        }
      ]
    },
    {
      "cell_type": "markdown",
      "source": [
        "# Estruturas de controle\n",
        "\n",
        "Estrutura de seleção é utilizada quando um algoritmo necessita escolher uma instrução ou um conjunto de instruções quando uma **condição** (representada por uma expressão relacional ou lógica) é satisfeita ou não."
      ],
      "metadata": {
        "id": "4sT_zC-dPd88"
      }
    },
    {
      "cell_type": "markdown",
      "source": [
        "## Estrutura de Seleção Simples (IF)\n",
        "\n",
        "![selecao_simples.png](data:image/png;base64,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)"
      ],
      "metadata": {
        "id": "Cw4y6dWCQIJE"
      }
    },
    {
      "cell_type": "markdown",
      "source": [
        "Exemplo:\n",
        "\n",
        "      se (condição):\n",
        "        <instrução_1>\n",
        "        <instrução_2>\n",
        "          ...\n",
        "        <instrução_n>"
      ],
      "metadata": {
        "id": "hvgtI74TRjas"
      }
    },
    {
      "cell_type": "markdown",
      "source": [
        "Quando o computador encontra o bloco de instruções acima, inicialmente a condição é testada. Caso o resultado do teste seja um valor **verdadeiro**, o conjunto de instruções dentro do bloco `se` será executado. Caso a condição resulte em um valor **falso** todo o bloco de instruções é **ignorado** e o fluxo de execução do algoritmo segue logo abaixo do bloco `se`."
      ],
      "metadata": {
        "id": "M6Cu4lhXSF7L"
      }
    },
    {
      "cell_type": "markdown",
      "source": [
        "## Sintaxe\n",
        "\n",
        "![sintaxe_se_simples.png](data:image/png;base64,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)"
      ],
      "metadata": {
        "id": "oin7WwJ9TFKM"
      }
    },
    {
      "cell_type": "markdown",
      "source": [
        "Observa-se que, em Python, após a condição, **deverá** ter dois pontos (:), que indica o início de um novo bloco. Caso a condição seja verdadeira, será executado o bloco abaixo dos dois pontos. Esse bloco deverá ser **IDENTADO** com um TAB a frente do `SE`.\n",
        "\n",
        "**IF = SE**\n",
        "\n",
        "Exemplos:\n"
      ],
      "metadata": {
        "id": "vsJYrQsQwnMX"
      }
    },
    {
      "cell_type": "code",
      "source": [
        "#algoritmo valida número digitado é par\n",
        "\n",
        "#entrada\n",
        "numero = int(input('Digite um valor inteiro: '))\n",
        "\n",
        "#processamento\n",
        "resto_divisao = numero % 2 #módulo\n",
        "\n",
        "# = atribuição | == comparação\n",
        "\n",
        "if (resto_divisao == 0):\n",
        "  print(f'O número {numero} é par!') #saída"
      ],
      "metadata": {
        "colab": {
          "base_uri": "https://localhost:8080/"
        },
        "id": "LOWbTzzLxoJv",
        "outputId": "418c1b72-d1d0-4fd8-c1fc-785c73736a40"
      },
      "execution_count": null,
      "outputs": [
        {
          "name": "stdout",
          "output_type": "stream",
          "text": [
            "Digite um valor inteiro: 1\n"
          ]
        }
      ]
    },
    {
      "cell_type": "code",
      "source": [
        "#algoritmo para validar se um número é positivo\n",
        "\n",
        "#entrada\n",
        "numero = int(input('Digite um valor inteiro: '))\n",
        "\n",
        "if (numero) >= 0:\n",
        "  print(f'O número {numero} é positivo!')"
      ],
      "metadata": {
        "colab": {
          "base_uri": "https://localhost:8080/"
        },
        "id": "A2I-oMESy6sN",
        "outputId": "8966d764-b86a-4bdb-d030-3a97daa6dfe5"
      },
      "execution_count": null,
      "outputs": [
        {
          "output_type": "stream",
          "name": "stdout",
          "text": [
            "Digite um valor inteiro: 0\n",
            "O número 0 é positivo!\n"
          ]
        }
      ]
    },
    {
      "cell_type": "markdown",
      "source": [
        "## Estrutura de Seleção Composta\n",
        "\n",
        "![selecao_composta.png](data:image/png;base64,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)"
      ],
      "metadata": {
        "id": "fq7nKxpKzzLO"
      }
    },
    {
      "cell_type": "markdown",
      "source": [
        "##Sintaxe\n",
        "\n",
        "![sintaxe_se_composta.png](data:image/png;base64,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)"
      ],
      "metadata": {
        "id": "Xv6jxDrg0uX2"
      }
    },
    {
      "cell_type": "markdown",
      "source": [
        "Da mesma forma que a estrutura de seleção simples, a condição é testada. Caso o valor resulte em VERDADEIRO, o conjunto de instruções logo abaixo do comando `SE` será executado e o conjunto de instruções pertencentes ao bloco `SENAO` serão ignorados.\n",
        "\n",
        "Por outro lado, caso o teste resulte em um valor **FALSO** o conjunto de instruções pertencentes ao `SENAO` serão executados.\n",
        "\n",
        "Após a execução de um conjunto de instruções, o fluxograma continua sua execução logo abaixo da estrutura de seleção."
      ],
      "metadata": {
        "id": "USXNWRt810Jt"
      }
    },
    {
      "cell_type": "markdown",
      "source": [
        "## Observações\n",
        "\n",
        "1. Pode-se ter uma instrução `SE` (if) sem o bloco `SENAO` (else), mas o contrário não é possível. Toda instrução SENAO deve estar associada a uma instrução `SE`. Cada instrução `SE` pode ter no máximo **UMA** instrução `SENAO`.\n",
        "\n",
        "2. Ao escrever a instrução `SENAO`(else) **não se deve colocar nenhuma condição lógica**, pois a sua execução sempre ocorrerá quando a condição da instrução `SE` for falsa."
      ],
      "metadata": {
        "id": "-lPycI5h2vHN"
      }
    },
    {
      "cell_type": "code",
      "source": [
        "#algoritmo valida número par ou ímpar\n",
        "\n",
        "#entrada\n",
        "numero = int(input('Digite um valor inteiro: '))\n",
        "\n",
        "#processamento\n",
        "resto_div = numero % 2\n",
        "\n",
        "if resto_div == 0:\n",
        "  print(f'O número {numero} é par!')\n",
        "else:\n",
        "  print(f'O número {numero} é ímpar!')\n"
      ],
      "metadata": {
        "colab": {
          "base_uri": "https://localhost:8080/"
        },
        "id": "-NCxuVw24RMk",
        "outputId": "5aa62880-2bc6-49eb-d232-908b52c976e1"
      },
      "execution_count": null,
      "outputs": [
        {
          "output_type": "stream",
          "name": "stdout",
          "text": [
            "Digite um valor inteiro: 6\n",
            "O número 6 é par!\n"
          ]
        }
      ]
    },
    {
      "cell_type": "code",
      "source": [
        "#algoritmo para validar se um número é positivo e negativo\n",
        "\n",
        "#entrada\n",
        "numero = int(input('Digite um valor inteiro: '))\n",
        "\n",
        "if (numero) >= 0:\n",
        "  print(f'O número {numero} é positivo!')\n",
        "else:\n",
        "  print(f'O número {numero} é negativo!')"
      ],
      "metadata": {
        "colab": {
          "base_uri": "https://localhost:8080/"
        },
        "id": "jZSaGIWk5Aml",
        "outputId": "99d886b3-8359-4a7b-9632-86662e878c75"
      },
      "execution_count": null,
      "outputs": [
        {
          "output_type": "stream",
          "name": "stdout",
          "text": [
            "Digite um valor inteiro: -4\n",
            "O número -4 é negativo!\n"
          ]
        }
      ]
    },
    {
      "cell_type": "markdown",
      "source": [
        "## Exercícios - Estrutura de Seleção"
      ],
      "metadata": {
        "id": "68117ZTG7LI9"
      }
    },
    {
      "cell_type": "markdown",
      "source": [
        "**01 -** Faça um algoritmo que leia duas notas, calcule a média e verifique se o aluno foi aprovado ou reprovado. Para estar aprovado, a média deverá ser maior ou igual a 7."
      ],
      "metadata": {
        "id": "npkXvnVr7Opl"
      }
    },
    {
      "cell_type": "code",
      "source": [
        "nota1 = float(input('Digite a nota 1: '))\n",
        "nota2 = float(input('Digite a nota 2: '))\n",
        "\n",
        "media = (nota1 + nota2) / 2\n",
        "\n",
        "if (media) >= 7.0:\n",
        "  print('Parabéns, você passou!')\n",
        "else:\n",
        "  print('Poxa, você não passou...')"
      ],
      "metadata": {
        "colab": {
          "base_uri": "https://localhost:8080/"
        },
        "id": "GUcmELEs7cR0",
        "outputId": "c21a4743-ca43-4376-b07b-c5cb1b9f57b8"
      },
      "execution_count": null,
      "outputs": [
        {
          "output_type": "stream",
          "name": "stdout",
          "text": [
            "Digite a nota 1: 10\n",
            "Digite a nota 2: 9\n",
            "Parabéns, você passou!\n"
          ]
        }
      ]
    },
    {
      "cell_type": "markdown",
      "source": [
        "**02 -** Faça um algoritmo que leia dois valores inteiros e determine qual deles é o maior."
      ],
      "metadata": {
        "id": "rTXKPclc8F48"
      }
    },
    {
      "cell_type": "code",
      "source": [
        "num1 = int(input('Digite um número de valor inteiro: '))\n",
        "num2 = int(input('Digite outro número de valor inteiro: '))\n",
        "\n",
        "if (num1) > (num2):\n",
        "  print(f'O número {num1} é maior que o número {num2}.')\n",
        "elif (num1) == (num2):\n",
        "  print(f'Os dois números são iguais.')\n",
        "else:\n",
        "  print(f'O número {num2} é maior que o número {num1}.')\n"
      ],
      "metadata": {
        "colab": {
          "base_uri": "https://localhost:8080/"
        },
        "id": "RW4B7G3Y8PM8",
        "outputId": "d908b42c-cb61-439c-dc53-ebea44d6f0f1"
      },
      "execution_count": null,
      "outputs": [
        {
          "output_type": "stream",
          "name": "stdout",
          "text": [
            "Digite um número de valor inteiro: 5\n",
            "Digite outro número de valor inteiro: 5\n",
            "Os dois números são iguais.\n"
          ]
        }
      ]
    },
    {
      "cell_type": "markdown",
      "source": [
        "IF / ELIF (SE / SENAO SE) - Encadeado\n",
        "\n",
        "Cada `if` será avaliado indidualmente, o que significa que todas as condições podem ser verdadeiras e serem executadas.\n",
        "\n",
        "Abaixo a estrutura não encadeada:"
      ],
      "metadata": {
        "id": "uPixv_AYBKtk"
      }
    },
    {
      "cell_type": "code",
      "source": [
        "velocidade = 150\n",
        "\n",
        "if velocidade > 80:\n",
        "  print('Multa leve aplicada!')\n",
        "\n",
        "if velocidade > 100:\n",
        "  print('Multa grave aplicada!')\n",
        "\n",
        "if velocidade > 120:\n",
        "  print('Multa gravíssima aplicada!')"
      ],
      "metadata": {
        "colab": {
          "base_uri": "https://localhost:8080/"
        },
        "id": "O9I87DCWBUjz",
        "outputId": "e5c9d80b-b69c-4577-dbf6-ab7c8a45874a"
      },
      "execution_count": null,
      "outputs": [
        {
          "output_type": "stream",
          "name": "stdout",
          "text": [
            "Multa leve aplicada!\n",
            "Multa grave aplicada!\n",
            "Multa gravíssima aplicada!\n"
          ]
        }
      ]
    },
    {
      "cell_type": "markdown",
      "source": [
        "O `ELIF` (SENAO SE) faz com que apenas uma condição seja avaliada e executada. Assim que um `if` ou `elif` for verdadeiro, o resto do bloco é ignorado.\n",
        "\n",
        "Abaixo uma estrutura encadeada:"
      ],
      "metadata": {
        "id": "M7YeVw1SLWyR"
      }
    },
    {
      "cell_type": "code",
      "source": [
        "velocidade = 60\n",
        "\n",
        "if velocidade > 120:\n",
        "  print('Multa gravíssima aplicada.')\n",
        "elif velocidade > 100:\n",
        "  print('Multa grave aplicada.')\n",
        "elif velocidade > 80:\n",
        "  print('Multa leve aplicada.')\n",
        "else:\n",
        "  print('Velocidade permitida.')\n",
        "\n",
        "  print('Programa encerrado.')"
      ],
      "metadata": {
        "colab": {
          "base_uri": "https://localhost:8080/"
        },
        "id": "ghLbUNkBLmtR",
        "outputId": "e60bdbf6-490e-4ffb-b226-2bb18993e632"
      },
      "execution_count": null,
      "outputs": [
        {
          "output_type": "stream",
          "name": "stdout",
          "text": [
            "Velocidade permitida.\n",
            "Programa encerrado.\n"
          ]
        }
      ]
    },
    {
      "cell_type": "markdown",
      "source": [
        "**03 -** Faça um algoritmo que leia a velocidade máxima permitida em uma rodovia e também a velocidade de um determinado veículo. Verifique se o carro infringiu o limite de velocidade permitido e pagará multa ou não."
      ],
      "metadata": {
        "id": "4r8r1b5LOCow"
      }
    },
    {
      "cell_type": "code",
      "source": [
        "velocidade_Max = int(input('Velocidade da rodovia: '))\n",
        "velocidade_Veiculo = float(input('Velocidade do veículo: '))\n",
        "\n",
        "if velocidade_Veiculo > velocidade_Max:\n",
        "  print('Pagará multa')\n",
        "else:\n",
        "  print('Não pagará multa.')"
      ],
      "metadata": {
        "colab": {
          "base_uri": "https://localhost:8080/"
        },
        "id": "5snDncukOURo",
        "outputId": "3c3c20e3-eac6-4a28-a5c4-fe084c06b247"
      },
      "execution_count": null,
      "outputs": [
        {
          "output_type": "stream",
          "name": "stdout",
          "text": [
            "Velocidade da rodovia: 80\n",
            "Velocidade do veículo: 50\n",
            "Não pagará multa.\n"
          ]
        }
      ]
    },
    {
      "cell_type": "markdown",
      "source": [
        "**04 -** Idem ao 2 porém com 3 valores."
      ],
      "metadata": {
        "id": "89d3NyOEOUm4"
      }
    },
    {
      "cell_type": "code",
      "source": [
        "num1 = int(input('Digite um número de valor inteiro: '))\n",
        "num2 = int(input('Digite o segundo número de valor inteiro: '))\n",
        "num3 = int(input('Digite o terceiro número de valor inteiro: '))\n",
        "\n",
        "\n",
        "if (num1) > (num2) and (num1) > (num3):\n",
        "  print(f'O número {num1} é maior.')\n",
        "elif (num2) > (num1) and (num2) > (num3):\n",
        "  print(f'O número {num2} é maior.')\n",
        "else:\n",
        "  print(f'O número {num3} é maior.')"
      ],
      "metadata": {
        "colab": {
          "base_uri": "https://localhost:8080/"
        },
        "id": "meWwC3w0QC4g",
        "outputId": "718e2646-f574-49bd-bce1-f28d1e486ab5"
      },
      "execution_count": null,
      "outputs": [
        {
          "output_type": "stream",
          "name": "stdout",
          "text": [
            "Digite um número de valor inteiro: 12\n",
            "Digite o segundo número de valor inteiro: 24\n",
            "Digite o terceiro número de valor inteiro: 45\n",
            "O número 45 é maior.\n"
          ]
        }
      ]
    },
    {
      "cell_type": "markdown",
      "source": [
        "**05 -** Faça um algoritmo que leia a altura e o sexo de uma pessoa. Calcule e mostre o seu peso ideal utilizando as seguintes fórmulas.\n",
        "\n",
        "* Homens: (72.7 * altura) - 58\n",
        "* Mulheres: (62.1 * altura) - 44.7"
      ],
      "metadata": {
        "id": "kvWg-qieSi1g"
      }
    },
    {
      "cell_type": "code",
      "source": [
        "altura = float(input('Digite sua altura: '))\n",
        "sexo = str(input('Digite seu sexo: '))\n",
        "\n",
        "calcHomem = (72.7 * altura) - 58\n",
        "calcMulher = (62.1 * altura) - 44.7\n",
        "\n",
        "if (sexo == 'homem' or 'Homem' or 'masculino' or 'Masculino'):\n",
        "  print(f'Seu peso ideal é de: {calcHomem:.1f} kg.')\n",
        "elif (sexo == 'mulher' or 'Mulher' or 'feminino' or 'Feminino'):\n",
        "  print(f'Seu peso ideal é de: {calcMulher:.1f} kg')\n",
        "else:\n",
        "  print('Não entendi...')"
      ],
      "metadata": {
        "colab": {
          "base_uri": "https://localhost:8080/"
        },
        "id": "c7wYYH75SqwX",
        "outputId": "679a7cdd-90c5-4b7c-a2b6-4c2d405674ad"
      },
      "execution_count": null,
      "outputs": [
        {
          "output_type": "stream",
          "name": "stdout",
          "text": [
            "Digite sua altura: 1.86\n",
            "Digite seu sexo: masculino\n",
            "Seu peso ideal é de: 77.2 kg.\n"
          ]
        }
      ]
    },
    {
      "cell_type": "markdown",
      "source": [
        "**06 -** Crie um programa que peça ao usuário uma senha e só permita o acesso a senha se for 'sp_campeao'."
      ],
      "metadata": {
        "id": "IW-hlpAOpoJn"
      }
    },
    {
      "cell_type": "code",
      "source": [
        "senha = str(input('Digite sua senha: '))\n",
        "\n",
        "if senha == 'sp_campeao':\n",
        "  print('Usuário logado com sucesso.')\n",
        "else:\n",
        "  print('Usuário incorreto.')"
      ],
      "metadata": {
        "colab": {
          "base_uri": "https://localhost:8080/"
        },
        "id": "mrebkRRgpwTP",
        "outputId": "7fb6e7c8-e8bc-442d-80bb-01cfb27e3f73"
      },
      "execution_count": null,
      "outputs": [
        {
          "output_type": "stream",
          "name": "stdout",
          "text": [
            "Digite sua senha: sp_campeao\n",
            "Usuário logado com sucesso.\n"
          ]
        }
      ]
    },
    {
      "cell_type": "markdown",
      "source": [
        "**07 -** Peça ao usuário um número e verifique se ele está no intervalo entre 10 e 50 (inclusive)"
      ],
      "metadata": {
        "id": "R5lgHy7gpwo3"
      }
    },
    {
      "cell_type": "code",
      "source": [
        "numero = int(input('Digite um número: '))\n",
        "\n",
        "if numero >= 10 and numero <= 50:\n",
        "  print(f'O número {numero} está dentro do intervalo entre 10 e 50.')\n",
        "else:\n",
        "  print(f'O número {numero} não está dentro do intervalo entre 10 e 50.')"
      ],
      "metadata": {
        "colab": {
          "base_uri": "https://localhost:8080/"
        },
        "id": "yd9ldActp6M_",
        "outputId": "ba9fa5e3-8992-40c1-c687-445e72e90817"
      },
      "execution_count": null,
      "outputs": [
        {
          "output_type": "stream",
          "name": "stdout",
          "text": [
            "Digite um número: 65\n",
            "O número 65 não está dentro do intervalo entre 10 e 50.\n"
          ]
        }
      ]
    },
    {
      "cell_type": "markdown",
      "source": [
        "**08 -** Peça o salário do usuário e o valor de um empréstimo. Aprove o empréstimo apenas se o valor não ultrapassar 30% do salário."
      ],
      "metadata": {
        "id": "_h9HE3Aep6h_"
      }
    },
    {
      "cell_type": "code",
      "source": [
        "salario = float(input('Insira o seu salário: '))\n",
        "emprestimo = float(input('Insira o valor do empréstimo que deseja fazer: '))\n",
        "\n",
        "calculo = emprestimo * 0.3\n",
        "\n",
        "if calculo > salario:\n",
        "  print('O empréstimo foi recusado.')\n",
        "else:\n",
        "  print('O empréstimo foi aceito.')"
      ],
      "metadata": {
        "colab": {
          "base_uri": "https://localhost:8080/"
        },
        "id": "vQu7SLZ7rWk9",
        "outputId": "a428d41e-f54c-4861-dc9d-7d46a7fe71db"
      },
      "execution_count": null,
      "outputs": [
        {
          "output_type": "stream",
          "name": "stdout",
          "text": [
            "Insira o seu salário: 1245\n",
            "Insira o valor do empréstimo que deseja fazer: 40000\n",
            "O empréstimo foi recusado.\n"
          ]
        }
      ]
    },
    {
      "cell_type": "markdown",
      "source": [
        "**09 -** Peça um número para o usuário e informe se ele é múltiplo de 3 e 5 ao mesmo tempo."
      ],
      "metadata": {
        "id": "fA5h1Ixnujhq"
      }
    },
    {
      "cell_type": "code",
      "source": [
        "numero = float(input('Digite um número: '))\n",
        "\n",
        "if numero % 3 == 0 and numero % 5 == 0:\n",
        "  print(f'O número {numero} é multiplo de 3 e 5 ao mesmo tempo.')\n",
        "else:\n",
        "  print(f'O número {numero} NÃO é multiplo de 3 e 5 ao mesmo tempo.')"
      ],
      "metadata": {
        "colab": {
          "base_uri": "https://localhost:8080/"
        },
        "id": "_Fm0GIUuutNK",
        "outputId": "e9680352-168d-442f-c636-bb6bf4736ce0"
      },
      "execution_count": null,
      "outputs": [
        {
          "output_type": "stream",
          "name": "stdout",
          "text": [
            "Digite um número: 4\n",
            "O número 4.0 NÃO é multiplo de 3 e 5 ao mesmo tempo.\n"
          ]
        }
      ]
    },
    {
      "cell_type": "markdown",
      "source": [
        "**10 -** Uma competição de natação é organizada de acordo com a idade de cada nadador. Elabore um algoritmo que leia a idade de um nadador e determine qual a categoria que ele deve competir. Considere:\n",
        "\n",
        "* idade <= 8 - Categoria Infantil A\n",
        "* idade < 13 - Categoria Infantil B\n",
        "* idade < 18 - Categoria Juvenil A\n",
        "* idade < 21 - Categoria Juvenil B\n",
        "* idade >= 21 - Categoria Sênior"
      ],
      "metadata": {
        "id": "127zlNKbxng3"
      }
    },
    {
      "cell_type": "code",
      "source": [
        "idade = int(input('Digite a sua idade para a competição de natação: '))\n",
        "\n",
        "if idade <= 8:\n",
        "  print(f'Você tendo {idade} anos, participará da Categoria Infantil A.')\n",
        "elif idade < 13:\n",
        "  print(f'Você tendo {idade} anos, participará da Categoria Infantil B.')\n",
        "elif idade < 18:\n",
        "  print(f'Você tendo {idade} anos, participará da Categoria Juvenil A.')\n",
        "elif idade < 21:\n",
        "  print(f'Você tendo {idade} anos, participará da Categoria Juvenil B.')\n",
        "elif idade >= 21:\n",
        "  print(f'Você tendo {idade} anos, participará da Categoria Sênior.')"
      ],
      "metadata": {
        "colab": {
          "base_uri": "https://localhost:8080/"
        },
        "id": "CFxEpdpVyIen",
        "outputId": "e1ee3cdf-c1ca-4a23-a895-e0b64bb26893"
      },
      "execution_count": null,
      "outputs": [
        {
          "output_type": "stream",
          "name": "stdout",
          "text": [
            "Digite a sua idade para a competição de natação: 18\n",
            "Você tendo 18 anos, participará da Categoria Juvenil B.\n"
          ]
        }
      ]
    }
  ],
  "metadata": {
    "colab": {
      "provenance": [],
      "toc_visible": true,
      "include_colab_link": true
    },
    "kernelspec": {
      "display_name": "Python 3",
      "name": "python3"
    },
    "language_info": {
      "codemirror_mode": {
        "name": "ipython",
        "version": 3
      },
      "file_extension": ".py",
      "mimetype": "text/x-python",
      "name": "python",
      "nbconvert_exporter": "python",
      "pygments_lexer": "ipython3",
      "version": "3.12.4"
    }
  },
  "nbformat": 4,
  "nbformat_minor": 0
}